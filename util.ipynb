{
 "cells": [
  {
   "cell_type": "code",
   "execution_count": 1,
   "metadata": {},
   "outputs": [],
   "source": [
    "import numpy as np\n",
    "from PIL import Image\n"
   ]
  },
  {
   "cell_type": "code",
   "execution_count": 2,
   "metadata": {},
   "outputs": [],
   "source": [
    "# Pascal VOC color palette for labels\n",
    "_PALETTE = [0, 0, 0,\n",
    "            128, 0, 0,\n",
    "            0, 128, 0,\n",
    "            128, 128, 0,\n",
    "            0, 0, 128,\n",
    "            128, 0, 128,\n",
    "            0, 128, 128,\n",
    "            128, 128, 128,\n",
    "            64, 0, 0,\n",
    "            192, 0, 0,\n",
    "            64, 128, 0,\n",
    "            192, 128, 0,\n",
    "            64, 0, 128,\n",
    "            192, 0, 128,\n",
    "            64, 128, 128,\n",
    "            192, 128, 128,\n",
    "            0, 64, 0,\n",
    "            128, 64, 0,\n",
    "            0, 192, 0,\n",
    "            128, 192, 0,\n",
    "            0, 64, 128,\n",
    "            128, 64, 128,\n",
    "            0, 192, 128,\n",
    "            128, 192, 128,\n",
    "            64, 64, 0,\n",
    "            192, 64, 0,\n",
    "            64, 192, 0,\n",
    "            192, 192, 0]\n",
    "\n",
    "_IMAGENET_MEANS = np.array([123.68, 116.779, 103.939], dtype=np.float32)  # RGB mean values"
   ]
  },
  {
   "cell_type": "code",
   "execution_count": 3,
   "metadata": {},
   "outputs": [],
   "source": [
    "def get_preprocessed_image(im):\n",
    "    \"\"\" Reads an image from the disk, pre-processes it by subtracting mean etc. and\n",
    "    returns a numpy array that's ready to be fed into a Keras model.\n",
    "    Note: This method assumes 'channels_last' data format in Keras.\n",
    "    \"\"\"\n",
    "\n",
    "    \n",
    "    assert im.ndim == 3, 'Only RGB images are supported.'\n",
    "    im = im - _IMAGENET_MEANS\n",
    "    im = im[:, :, ::-1]  # Convert to BGR\n",
    "    img_h, img_w, img_c = im.shape\n",
    "    assert img_c == 3, 'Only RGB images are supported.'\n",
    "    if img_h > 500 or img_w > 500:\n",
    "        raise ValueError('Please resize your images to be not bigger than 500 x 500.')\n",
    "\n",
    "    pad_h = 500 - img_h\n",
    "    pad_w = 500 - img_w\n",
    "    im = np.pad(im, pad_width=((0, pad_h), (0, pad_w), (0, 0)), mode='constant', constant_values=0)\n",
    "    return np.expand_dims(im.astype(np.float32), 0), img_h, img_w"
   ]
  },
  {
   "cell_type": "code",
   "execution_count": 4,
   "metadata": {},
   "outputs": [],
   "source": [
    "def get_label_image(probs, img_h, img_w):\n",
    "    \"\"\" Returns the label image (PNG with Pascal VOC colormap) given the probabilities.\n",
    "    Note: This method assumes 'channels_last' data format.\n",
    "    \"\"\"\n",
    "\n",
    "    labels = probs.argmax(axis=2).astype('uint8')[:img_h, :img_w]\n",
    "    label_im = Image.fromarray(labels, 'P')\n",
    "    label_im.putpalette(_PALETTE)\n",
    "    return label_im"
   ]
  },
  {
   "cell_type": "code",
   "execution_count": null,
   "metadata": {},
   "outputs": [],
   "source": []
  }
 ],
 "metadata": {
  "kernelspec": {
   "display_name": "Python 3",
   "language": "python",
   "name": "python3"
  },
  "language_info": {
   "codemirror_mode": {
    "name": "ipython",
    "version": 3
   },
   "file_extension": ".py",
   "mimetype": "text/x-python",
   "name": "python",
   "nbconvert_exporter": "python",
   "pygments_lexer": "ipython3",
   "version": "3.6.8"
  }
 },
 "nbformat": 4,
 "nbformat_minor": 2
}
