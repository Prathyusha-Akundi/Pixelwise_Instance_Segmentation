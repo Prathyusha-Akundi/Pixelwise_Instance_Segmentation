{
 "cells": [
  {
   "cell_type": "code",
   "execution_count": 1,
   "metadata": {},
   "outputs": [
    {
     "name": "stderr",
     "output_type": "stream",
     "text": [
      "Using TensorFlow backend.\n"
     ]
    }
   ],
   "source": [
    "from keras.models import Model\n",
    "from keras.layers import Conv2D, MaxPooling2D, Input, Lambda, ZeroPadding2D, Dropout, Conv2DTranspose, Cropping2D, Add,Dense\n",
    "from crfasrnn_layer_instance import CrfRnnLayerForInstance\n",
    "import object_detection_class\n",
    "\n",
    "def get_instance_model(d):\n",
    "    \n",
    "\n",
    "    channels, height, weight = 21, 500, 500\n",
    "\n",
    "    # Input\n",
    "    input_shape = (height, weight, channels)\n",
    "    img_input = Input(shape=input_shape)\n",
    "    box_term = Input(shape = (height, weight, d))\n",
    "    global_term = Input(shape = (height, weight, d))\n",
    "\n",
    "#     b = Dense(32)(img_input)\n",
    "#     g = Dense(32)(img_input)\n",
    "    \n",
    "#     box_layer = Lambda(lambda x: boxterm)(b)\n",
    "    \n",
    "#     global_layer = Lambda(lambda x: globalterm)(g)\n",
    "    \n",
    "    output = CrfRnnLayerForInstance(image_dims=(height, weight), num_detections = d,\n",
    "                         num_classes=d,\n",
    "                         theta_alpha=160.,\n",
    "                         theta_beta=3.,\n",
    "                         theta_gamma=3.,\n",
    "                         num_iterations=10,\n",
    "                         name='crfrnn')([img_input, box_term, global_term])\n",
    "    \n",
    "    \n",
    "\n",
    "    # Build the model\n",
    "    model = Model(inputs = [img_input,box_term, global_term],outputs =  output, name='crfrnn_net')\n",
    "\n",
    "    return model"
   ]
  },
  {
   "cell_type": "code",
   "execution_count": null,
   "metadata": {},
   "outputs": [],
   "source": []
  }
 ],
 "metadata": {
  "kernelspec": {
   "display_name": "Python 3",
   "language": "python",
   "name": "python3"
  },
  "language_info": {
   "codemirror_mode": {
    "name": "ipython",
    "version": 3
   },
   "file_extension": ".py",
   "mimetype": "text/x-python",
   "name": "python",
   "nbconvert_exporter": "python",
   "pygments_lexer": "ipython3",
   "version": "3.6.8"
  }
 },
 "nbformat": 4,
 "nbformat_minor": 2
}
