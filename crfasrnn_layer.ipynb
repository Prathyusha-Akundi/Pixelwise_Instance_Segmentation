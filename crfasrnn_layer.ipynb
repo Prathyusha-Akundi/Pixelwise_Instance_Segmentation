{
 "cells": [
  {
   "cell_type": "code",
   "execution_count": 1,
   "metadata": {},
   "outputs": [
    {
     "name": "stderr",
     "output_type": "stream",
     "text": [
      "Using TensorFlow backend.\n"
     ]
    }
   ],
   "source": [
    "import numpy as np\n",
    "import tensorflow as tf\n",
    "from keras.engine.topology import Layer"
   ]
  },
  {
   "cell_type": "code",
   "execution_count": 2,
   "metadata": {},
   "outputs": [],
   "source": [
    "import high_dim_filter_loader\n",
    "custom_module = high_dim_filter_loader.custom_module"
   ]
  },
  {
   "cell_type": "code",
   "execution_count": 3,
   "metadata": {},
   "outputs": [],
   "source": [
    "def _diagonal_initializer(shape):\n",
    "    return np.eye(shape[0], shape[1], dtype=np.float32)"
   ]
  },
  {
   "cell_type": "code",
   "execution_count": 4,
   "metadata": {},
   "outputs": [],
   "source": [
    "def _potts_model_initializer(shape):\n",
    "    return -1 * _diagonal_initializer(shape)\n"
   ]
  },
  {
   "cell_type": "code",
   "execution_count": 5,
   "metadata": {},
   "outputs": [],
   "source": [
    "class CrfRnnLayer(Layer):\n",
    "    \"\"\" Implements the CRF-RNN layer described in:\n",
    "    Conditional Random Fields as Recurrent Neural Networks,\n",
    "    S. Zheng, S. Jayasumana, B. Romera-Paredes, V. Vineet, Z. Su, D. Du, C. Huang and P. Torr,\n",
    "    ICCV 2015\n",
    "    \"\"\"\n",
    "\n",
    "    def __init__(self, image_dims, num_classes,\n",
    "                 theta_alpha, theta_beta, theta_gamma,\n",
    "                 num_iterations, **kwargs):\n",
    "        self.image_dims = image_dims\n",
    "        self.num_classes = num_classes\n",
    "        self.theta_alpha = theta_alpha\n",
    "        self.theta_beta = theta_beta\n",
    "        self.theta_gamma = theta_gamma\n",
    "        self.num_iterations = num_iterations\n",
    "        self.spatial_ker_weights = None\n",
    "        self.bilateral_ker_weights = None\n",
    "        self.compatibility_matrix = None\n",
    "        super(CrfRnnLayer, self).__init__(**kwargs)\n",
    "\n",
    "    def build(self, input_shape):\n",
    "        # Weights of the spatial kernel\n",
    "        self.spatial_ker_weights = self.add_weight(name='spatial_ker_weights',\n",
    "                                                   shape=(self.num_classes, self.num_classes),\n",
    "                                                   initializer=_diagonal_initializer,\n",
    "                                                   trainable=True)\n",
    "\n",
    "        # Weights of the bilateral kernel\n",
    "        self.bilateral_ker_weights = self.add_weight(name='bilateral_ker_weights',\n",
    "                                                     shape=(self.num_classes, self.num_classes),\n",
    "                                                     initializer=_diagonal_initializer,\n",
    "                                                     trainable=True)\n",
    "\n",
    "        # Compatibility matrix\n",
    "        self.compatibility_matrix = self.add_weight(name='compatibility_matrix',\n",
    "                                                    shape=(self.num_classes, self.num_classes),\n",
    "                                                    initializer=_potts_model_initializer,\n",
    "                                                    trainable=True)\n",
    "\n",
    "        super(CrfRnnLayer, self).build(input_shape)\n",
    "\n",
    "    def call(self, inputs):\n",
    "        unaries = tf.transpose(inputs[0][0, :, :, :], perm=(2, 0, 1))\n",
    "        rgb = tf.transpose(inputs[1][0, :, :, :], perm=(2, 0, 1))\n",
    "\n",
    "        c, h, w = self.num_classes, self.image_dims[0], self.image_dims[1]\n",
    "        all_ones = np.ones((c, h, w), dtype=np.float32)\n",
    "\n",
    "        # Prepare filter normalization coefficients\n",
    "        spatial_norm_vals = custom_module.high_dim_filter(all_ones, rgb, bilateral=False,\n",
    "                                                          theta_gamma=self.theta_gamma)\n",
    "        bilateral_norm_vals = custom_module.high_dim_filter(all_ones, rgb, bilateral=True,\n",
    "                                                            theta_alpha=self.theta_alpha,\n",
    "                                                            theta_beta=self.theta_beta)\n",
    "        q_values = unaries\n",
    "\n",
    "        for i in range(self.num_iterations):\n",
    "            softmax_out = tf.nn.softmax(q_values, 0)\n",
    "\n",
    "            # Spatial filtering\n",
    "            spatial_out = custom_module.high_dim_filter(softmax_out, rgb, bilateral=False,\n",
    "                                                        theta_gamma=self.theta_gamma)\n",
    "            spatial_out = spatial_out / spatial_norm_vals\n",
    "\n",
    "            # Bilateral filtering\n",
    "            bilateral_out = custom_module.high_dim_filter(softmax_out, rgb, bilateral=True,\n",
    "                                                          theta_alpha=self.theta_alpha,\n",
    "                                                          theta_beta=self.theta_beta)\n",
    "            bilateral_out = bilateral_out / bilateral_norm_vals\n",
    "\n",
    "            # Weighting filter outputs\n",
    "            message_passing = (tf.matmul(self.spatial_ker_weights,\n",
    "                                         tf.reshape(spatial_out, (c, -1))) +\n",
    "                               tf.matmul(self.bilateral_ker_weights,\n",
    "                                         tf.reshape(bilateral_out, (c, -1))))\n",
    "\n",
    "            # Compatibility transform\n",
    "            pairwise = tf.matmul(self.compatibility_matrix, message_passing)\n",
    "\n",
    "            # Adding unary potentials\n",
    "            pairwise = tf.reshape(pairwise, (c, h, w))\n",
    "            q_values = unaries - pairwise\n",
    "\n",
    "        return tf.transpose(tf.reshape(q_values, (1, c, h, w)), perm=(0, 2, 3, 1))\n",
    "\n",
    "    def compute_output_shape(self, input_shape):\n",
    "        print(input_shape)\n",
    "        return input_shape"
   ]
  },
  {
   "cell_type": "code",
   "execution_count": null,
   "metadata": {},
   "outputs": [],
   "source": []
  }
 ],
 "metadata": {
  "kernelspec": {
   "display_name": "Python 3",
   "language": "python",
   "name": "python3"
  },
  "language_info": {
   "codemirror_mode": {
    "name": "ipython",
    "version": 3
   },
   "file_extension": ".py",
   "mimetype": "text/x-python",
   "name": "python",
   "nbconvert_exporter": "python",
   "pygments_lexer": "ipython3",
   "version": "3.6.8"
  }
 },
 "nbformat": 4,
 "nbformat_minor": 2
}
